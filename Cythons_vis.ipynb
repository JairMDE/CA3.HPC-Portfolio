{
 "cells": [
  {
   "cell_type": "code",
   "execution_count": 2,
   "metadata": {},
   "outputs": [],
   "source": [
    "import time \n",
    "import numpy as np\n",
    "import sys"
   ]
  },
  {
   "cell_type": "code",
   "execution_count": 3,
   "metadata": {},
   "outputs": [],
   "source": [
    "sys.path.append('/Users/jairmartinez/Documents/UPY/7th/HPC/Portfolio/Portfoliocode/Scripts/Cython_All')"
   ]
  },
  {
   "cell_type": "code",
   "execution_count": 12,
   "metadata": {},
   "outputs": [],
   "source": [
    "from CPython_0.CPython import update as update_python\n",
    "from Cython_1_0.Cython_1 import update as update_c1\n",
    "from Cython_2_0.Cython_2 import update as update_c2\n",
    "from Cython_3_0.Cython_3 import update as update_c3\n",
    "from Cython_4_0.Cython_4 import update as update_c4\n"
   ]
  },
  {
   "cell_type": "code",
   "execution_count": 9,
   "metadata": {},
   "outputs": [],
   "source": [
    "\n",
    "def initialize_lattice(lattice_size=300):\n",
    "    \"\"\" \n",
    "    Function to initialize the lattice state for testing\n",
    "    \"\"\"\n",
    "    # Initialize a lattice as a cross\n",
    "    lattice = np.zeros((lattice_size, lattice_size), dtype=int)\n",
    "    lattice[lattice_size // 2, :] = 1\n",
    "    lattice[:, lattice_size // 2] = 1\n",
    "    return lattice\n"
   ]
  },
  {
   "cell_type": "code",
   "execution_count": 10,
   "metadata": {},
   "outputs": [],
   "source": [
    "def test_performance(update_function, lattice_size=300, iterations=300):\n",
    "    lattice = initialize_lattice(lattice_size)\n",
    "    start_time = time.time()\n",
    "    for _ in range(iterations):\n",
    "        lattice = update_function(lattice)\n",
    "    end_time = time.time()\n",
    "\n",
    "    return end_time - start_time\n"
   ]
  },
  {
   "cell_type": "code",
   "execution_count": 13,
   "metadata": {},
   "outputs": [],
   "source": [
    "cpython_runtime = test_performance(update_python)\n",
    "cython_1_runtime = test_performance(update_c1)\n",
    "cython_2_runtime = test_performance(update_c2)\n",
    "cython_3_runtime = test_performance(update_c3)\n",
    "cython_4_runtime = test_performance(update_c4)\n"
   ]
  },
  {
   "cell_type": "code",
   "execution_count": 14,
   "metadata": {},
   "outputs": [
    {
     "name": "stdout",
     "output_type": "stream",
     "text": [
      "Python Runtime: 12.32 seconds\n",
      "Cython 1 Runtime: 8.57 seconds\n",
      "Cython 2 Runtime: 4.59 seconds\n",
      "Cython 3 Runtime: 4.18 seconds\n",
      "Cython 4 Runtime: 3.90 seconds\n"
     ]
    }
   ],
   "source": [
    "print(f\"Python Runtime: {cpython_runtime:.2f} seconds\")\n",
    "print(f\"Cython 1 Runtime: {cython_1_runtime:.2f} seconds\")\n",
    "print(f\"Cython 2 Runtime: {cython_2_runtime:.2f} seconds\")\n",
    "print(f\"Cython 3 Runtime: {cython_3_runtime:.2f} seconds\")\n",
    "print(f\"Cython 4 Runtime: {cython_4_runtime:.2f} seconds\")\n"
   ]
  },
  {
   "cell_type": "code",
   "execution_count": 20,
   "metadata": {},
   "outputs": [
    {
     "data": {
      "image/png": "[encoded data removed]",
      "text/plain": [
       "<Figure size 1000x600 with 1 Axes>"
      ]
     },
     "metadata": {},
     "output_type": "display_data"
    }
   ],
   "source": [
    "import matplotlib.pyplot as plt\n",
    "\n",
    "# Data preparation\n",
    "labels = ['Python','Cython 1', 'Cython 2', 'Cython 3', 'Cython 4']\n",
    "runtimes = [cpython_runtime, cython_1_runtime, cython_2_runtime, cython_3_runtime, cython_4_runtime]\n",
    "\n",
    "# Creating the bar chart\n",
    "plt.figure(figsize=(10, 6))\n",
    "plt.bar(labels, runtimes, width=0.5, color='skyblue', edgecolor='blue')\n",
    "plt.xlabel('Implementation')\n",
    "plt.ylabel('Runtime (seconds)')\n",
    "plt.title('Performance Comparison of Cython Versions')\n",
    "plt.show()\n"
   ]
  },
  {
   "cell_type": "markdown",
   "metadata": {},
   "source": [
    "## Summary of Improvements through Cython Optimization\n",
    "\n",
    "### Python Version\n",
    "- **Description**: Baseline implementation using pure Python.\n",
    "- **Key Points**: \n",
    "  - Serves as the starting point for optimization.\n",
    "  - Faces the inherent overhead of Python's dynamic typing and interpreted execution.\n",
    "\n",
    "### Cython 1\n",
    "- **Description**: Direct translation of the Python code into Cython without specific optimizations.\n",
    "- **Key Points**: \n",
    "  - Some speed improvement from compiling to C, though minimal due to lack of Cython-specific optimizations.\n",
    "  - Still includes overhead due to lack of static typing and optimization.\n",
    "\n",
    "### Cython 2\n",
    "- **Description**: Introduces static typing for local variables within functions using `cdef`.\n",
    "- **Key Points**: \n",
    "  - Significant reduction in the overhead of dynamic type checking.\n",
    "  - Leads to faster execution by allowing Cython to generate more efficient C code.\n",
    "\n",
    "### Cython 3\n",
    "- **Description**: Extends static typing to function arguments and return types.\n",
    "- **Key Points**: \n",
    "  - Optimizes function calls by reducing Python calling convention overhead.\n",
    "  - Allows for further improvements in execution speed by generating even more efficient C code.\n",
    "\n",
    "### Cython 4\n",
    "- **Description**: Incorporates compiler directives to disable bounds checking and wraparound.\n",
    "- **Key Points**: \n",
    "  - Major performance gains by removing runtime checks for array bounds and negative index wraparound.\n",
    "  - Shifts the responsibility for managing array bounds to the developer, requiring careful coding to avoid errors.\n"
   ]
  }
 ],
 "metadata": {
  "kernelspec": {
   "display_name": "Portfoliocode",
   "language": "python",
   "name": "python3"
  },
  "language_info": {
   "codemirror_mode": {
    "name": "ipython",
    "version": 3
   },
   "file_extension": ".py",
   "mimetype": "text/x-python",
   "name": "python",
   "nbconvert_exporter": "python",
   "pygments_lexer": "ipython3",
   "version": "3.11.7"
  }
 },
 "nbformat": 4,
 "nbformat_minor": 2
}
